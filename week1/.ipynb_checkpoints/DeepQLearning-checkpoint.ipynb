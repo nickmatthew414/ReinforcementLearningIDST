{
 "cells": [
  {
   "cell_type": "code",
   "execution_count": 1,
   "metadata": {},
   "outputs": [],
   "source": [
    "import tensorflow as tf\n",
    "from tensorflow import keras\n",
    "import numpy as np\n",
    "from collections import deque\n",
    "import gym\n",
    "import matplotlib.pyplot as plt"
   ]
  },
  {
   "cell_type": "code",
   "execution_count": 2,
   "metadata": {},
   "outputs": [],
   "source": [
    "np.random.seed(1)\n",
    "tf.random.set_seed(1)\n",
    "\n",
    "env = gym.make(\"CartPole-v1\")\n",
    "input_shape = env.observation_space.shape\n",
    "output_size = env.action_space.n"
   ]
  },
  {
   "cell_type": "code",
   "execution_count": 3,
   "metadata": {},
   "outputs": [],
   "source": [
    "def build_model(input_shape, output_size, units):\n",
    "    return keras.models.Sequential([\n",
    "        keras.layers.Dense(units=units, activation='relu', input_shape=input_shape),\n",
    "        keras.layers.Dense(units=units, activation='relu'),\n",
    "        keras.layers.Dense(units=output_size)\n",
    "    ])"
   ]
  },
  {
   "cell_type": "code",
   "execution_count": 4,
   "metadata": {},
   "outputs": [],
   "source": [
    "model = build_model(input_shape, output_size, units=32)\n",
    "memory = deque(maxlen=1000)"
   ]
  },
  {
   "cell_type": "code",
   "execution_count": 5,
   "metadata": {},
   "outputs": [],
   "source": [
    "# pick random action with probability epsilon\n",
    "# otherwise calculate q_values of each action given state\n",
    "# using model. Return the action with highest Q value\n",
    "def epsilon_greedy_policy(state, epsilon=0):\n",
    "    if np.random.rand() < epsilon:\n",
    "        return np.random.randint(2)\n",
    "    else:\n",
    "        q_values = model.predict(state[np.newaxis])\n",
    "        return np.argmax(q_values[0])"
   ]
  },
  {
   "cell_type": "code",
   "execution_count": 6,
   "metadata": {},
   "outputs": [],
   "source": [
    "# generate random indices, sample data from those indices,\n",
    "# convert to numpy arrays and return\n",
    "def make_batch_from_memory(batch_size):\n",
    "    sample_indices = np.random.randint(len(memory), size=batch_size)\n",
    "    batch = [memory[x] for x in sample_indices]\n",
    "    states, actions, rewards, next_states, dones = \\\n",
    "       [np.array([sample[i] for sample in batch]) for i in range(5)]\n",
    "    return states, actions, rewards, next_states, dones"
   ]
  },
  {
   "cell_type": "code",
   "execution_count": 7,
   "metadata": {},
   "outputs": [],
   "source": [
    "# take on step with e-greedy policy\n",
    "# record step data in memory\n",
    "def take_step(env, state, epsilon):\n",
    "    action = epsilon_greedy_policy(state, epsilon)\n",
    "    next_state, reward, done, info = env.step(action)\n",
    "    memory.append((state, action, reward, next_state, done))\n",
    "    return next_state, reward, done, info"
   ]
  },
  {
   "cell_type": "code",
   "execution_count": 8,
   "metadata": {},
   "outputs": [],
   "source": [
    "batch_size = 32\n",
    "gamma = 0.95\n",
    "optimizer = keras.optimizers.Adam()\n",
    "loss_fn = keras.losses.mean_squared_error"
   ]
  },
  {
   "cell_type": "code",
   "execution_count": 9,
   "metadata": {},
   "outputs": [],
   "source": [
    "def training_step(batch_size):\n",
    "    data = make_batch_from_memory(batch_size)\n",
    "    states, actions, rewards, next_states, dones = data\n",
    "    next_q_values = model.predict(next_states)\n",
    "    best_q_value = np.max(next_q_values, axis=1)\n",
    "    target_q_values = rewards + (1-dones) * gamma * best_q_value\n",
    "    target_q_values = target_q_values.reshape(-1, 1)\n",
    "    mask = tf.one_hot(actions, output_size)\n",
    "    \n",
    "    with tf.GradientTape() as tape:\n",
    "        all_q_values = model(states)\n",
    "        q_values = tf.reduce_sum(all_q_values*mask, axis=1, keepdims=True)\n",
    "        loss = tf.reduce_mean(loss_fn(target_q_values, q_values))\n",
    "        grads = tape.gradient(loss, model.trainable_variables)\n",
    "        optimizer.apply_gradients(zip(grads, model.trainable_variables))  \n",
    "        "
   ]
  },
  {
   "cell_type": "code",
   "execution_count": 10,
   "metadata": {},
   "outputs": [
    {
     "name": "stdout",
     "output_type": "stream",
     "text": [
      "Episode: 999, Steps: 13, eps: 0.010"
     ]
    }
   ],
   "source": [
    "rewards = []\n",
    "best_score = 0\n",
    "\n",
    "for episode in range(500):\n",
    "    obs = env.reset()\n",
    "    for step in range(200):\n",
    "        epsilon = max(1-episode/500, 0.01)\n",
    "        obs, reward, done, info = take_step(env, obs, epsilon)\n",
    "        if done:\n",
    "            break\n",
    "    rewards.append(step)\n",
    "    if step > best_score:\n",
    "        best_weights = model.get_weights()\n",
    "        best_score = step\n",
    "    \n",
    "    print(\"\\rEpisode: {}, Steps: {}, eps: {:.3f}\".format(episode, step + 1, epsilon), end=\"\")\n",
    "    \n",
    "    # start training after 50 episodes\n",
    "    if episode > 50:\n",
    "        training_step(batch_size)\n",
    "\n",
    "model.set_weights(best_weights)\n",
    "    "
   ]
  },
  {
   "cell_type": "code",
   "execution_count": 11,
   "metadata": {},
   "outputs": [
    {
     "data": {
      "image/png": "[encoded data removed]",
      "text/plain": [
       "<Figure size 576x288 with 1 Axes>"
      ]
     },
     "metadata": {
      "needs_background": "light"
     },
     "output_type": "display_data"
    }
   ],
   "source": [
    "plt.figure(figsize=(8, 4))\n",
    "plt.plot(rewards)\n",
    "plt.xlabel(\"Episode\", fontsize=14)\n",
    "plt.ylabel(\"Total Rewards\", fontsize=14)\n",
    "plt.show()"
   ]
  },
  {
   "cell_type": "code",
   "execution_count": null,
   "metadata": {},
   "outputs": [],
   "source": []
  }
 ],
 "metadata": {
  "kernelspec": {
   "display_name": "Python 3",
   "language": "python",
   "name": "python3"
  },
  "language_info": {
   "codemirror_mode": {
    "name": "ipython",
    "version": 3
   },
   "file_extension": ".py",
   "mimetype": "text/x-python",
   "name": "python",
   "nbconvert_exporter": "python",
   "pygments_lexer": "ipython3",
   "version": "3.7.4"
  }
 },
 "nbformat": 4,
 "nbformat_minor": 2
}
